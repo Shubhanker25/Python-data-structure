{
  "nbformat": 4,
  "nbformat_minor": 0,
  "metadata": {
    "colab": {
      "provenance": []
    },
    "kernelspec": {
      "name": "python3",
      "display_name": "Python 3"
    },
    "language_info": {
      "name": "python"
    }
  },
  "cells": [
    {
      "cell_type": "code",
      "execution_count": null,
      "metadata": {
        "id": "PsOekxEOQlu8"
      },
      "outputs": [],
      "source": []
    },
    {
      "cell_type": "markdown",
      "source": [
        "Qns-18 Implement a code to find the intersection of two given lists"
      ],
      "metadata": {
        "id": "GUaV0NYdQv64"
      }
    },
    {
      "cell_type": "code",
      "source": [
        "#Answer\n",
        "List_1 = [2, 5, \"ram\", 8, 15]\n",
        "List_2 = [15, 6.7, 9, \"ram\", 2]\n",
        "Intersection_list = set(List_1) & set(List_2)\n",
        "intersection_list = list(Intersection_list)  # Rename the variable\n",
        "print(intersection_list)\n"
      ],
      "metadata": {
        "colab": {
          "base_uri": "https://localhost:8080/"
        },
        "id": "1qU-BHs-QxAi",
        "outputId": "e9264011-ff1d-4446-f7a2-672852a8a337"
      },
      "execution_count": null,
      "outputs": [
        {
          "output_type": "stream",
          "name": "stdout",
          "text": [
            "[2, 'ram', 15]\n"
          ]
        }
      ]
    },
    {
      "cell_type": "markdown",
      "source": [
        "Qns-19 Create a code to find the union of two lists without duplicates"
      ],
      "metadata": {
        "id": "MLzdAtlZRQdG"
      }
    },
    {
      "cell_type": "code",
      "source": [
        "#Answer\n",
        "List_1=[1,88,74,56,5]\n",
        "List_2=[5,6,88,95,71]\n",
        "union_list=set(List_1) | set(List_2)\n",
        "print(list(union_list))"
      ],
      "metadata": {
        "colab": {
          "base_uri": "https://localhost:8080/"
        },
        "id": "Pnj7QMh8RSXX",
        "outputId": "c6d3a5da-7032-4df6-9b81-1b4a77ed977c"
      },
      "execution_count": 25,
      "outputs": [
        {
          "output_type": "stream",
          "name": "stdout",
          "text": [
            "[1, 5, 6, 71, 74, 56, 88, 95]\n"
          ]
        }
      ]
    },
    {
      "cell_type": "markdown",
      "source": [
        "Qns-20 Write a code to shuffle a given list randomly without using any built-in shuffle functions"
      ],
      "metadata": {
        "id": "WBK1vBUTS8C9"
      }
    },
    {
      "cell_type": "code",
      "source": [
        "\n"
      ],
      "metadata": {
        "id": "RK9sZGWATDEh"
      },
      "execution_count": null,
      "outputs": []
    },
    {
      "cell_type": "markdown",
      "source": [
        "Qns-21 Write a code that takes two tuples as input and returns a new tuple containing elements that are\n",
        "common to both input tuples"
      ],
      "metadata": {
        "id": "DLpPiPzGUPKm"
      }
    },
    {
      "cell_type": "code",
      "source": [
        "#Answer\n",
        "Tuple1=input(\"Enter the first tuple:\")\n",
        "Tuple2=input(\"Enter the second tuple:\")\n",
        "Tuple3=tuple(set(Tuple1)&set(Tuple2))\n",
        "print(Tuple3)\n"
      ],
      "metadata": {
        "id": "m50NTsqXUVSn"
      },
      "execution_count": null,
      "outputs": []
    },
    {
      "cell_type": "markdown",
      "source": [
        "Qns-22 Create a code that prompts the user to enter two sets of integers separated by commas. Then, print the\n",
        "intersection of these two sets"
      ],
      "metadata": {
        "id": "5PyentD0WAj9"
      }
    },
    {
      "cell_type": "code",
      "source": [
        "#Answer\n",
        "Set1=input(\"Enter the first set of integers (separated by commas):\")\n",
        "Set2=input(\"Enter the second set of integers (separated by commas):\")\n",
        "Set1=set(map(int,Set1.split(\",\")))\n",
        "Set2=set(map(int,Set2.split(\",\")))\n",
        "Set3=set(Set1)&set(Set2)\n",
        "print(Set3)\n"
      ],
      "metadata": {
        "id": "0uY9xtDZWC9m",
        "colab": {
          "base_uri": "https://localhost:8080/"
        },
        "outputId": "f51544d0-18c2-480b-a5fd-e8fd93e64427"
      },
      "execution_count": 20,
      "outputs": [
        {
          "output_type": "stream",
          "name": "stdout",
          "text": [
            "Enter the first set of integers (separated by commas):5,6,7,8,9\n",
            "Enter the second set of integers (separated by commas):5,6,7,9,8,5,8,5\n",
            "{5, 6, 7, 8, 9}\n"
          ]
        }
      ]
    },
    {
      "cell_type": "markdown",
      "source": [
        "Qns-23 Write a code to concatenate two tuples. The function should take two tuples as input and return a new\n",
        "tuple containing elements from both input tuples."
      ],
      "metadata": {
        "id": "zYckeI3GaS6A"
      }
    },
    {
      "cell_type": "code",
      "source": [
        "#Answer\n",
        "Tuple_1_input = input(\"Enter the first tuple (separated by commas): \")\n",
        "Tuple_2_input = input(\"Enter the second tuple (separated by commas): \")\n",
        "Tuple_1 = tuple(map(int, Tuple_1_input.split(',')))\n",
        "Tuple_2 = tuple(map(int, Tuple_2_input.split(',')))\n",
        "\n",
        "# Concatenate the two tuples\n",
        "Tuple_3 = Tuple_1 + Tuple_2\n",
        "print(\"The concatenated tuple is:\", Tuple_3)\n"
      ],
      "metadata": {
        "colab": {
          "base_uri": "https://localhost:8080/"
        },
        "id": "Lbq10w3HafD6",
        "outputId": "2301b88d-8f11-4b16-82f9-df6cb0a49bad"
      },
      "execution_count": 22,
      "outputs": [
        {
          "output_type": "stream",
          "name": "stdout",
          "text": [
            "Enter the first tuple (separated by commas): 1,2,3,4,5\n",
            "Enter the second tuple (separated by commas): 1,2,3,4,5\n",
            "The concatenated tuple is: (1, 2, 3, 4, 5, 1, 2, 3, 4, 5)\n"
          ]
        }
      ]
    },
    {
      "cell_type": "markdown",
      "source": [
        "Qns-24 Develop a code that prompts the user to input two sets of strings. Then, print the elements that are\n",
        "present in the first set but not in the second set"
      ],
      "metadata": {
        "id": "9A17w2w6e_rZ"
      }
    },
    {
      "cell_type": "code",
      "source": [
        "#Answer\n",
        "set_1_input = input(\"Enter the first set of strings:\")\n",
        "set_2_input = input(\"Enter the second set of strings:\")\n",
        "set_1 = set(set_1_input.split(','))\n",
        "set_2 = set(set_2_input.split(','))\n",
        "difference_set = set_1 - set_2\n",
        "print(\"The elements in the first set but not in the second set are:\", difference_set)\n"
      ],
      "metadata": {
        "colab": {
          "base_uri": "https://localhost:8080/"
        },
        "id": "JarImyyyfbc2",
        "outputId": "49f9348f-c1a1-4621-a957-a86ed16ac5d7"
      },
      "execution_count": null,
      "outputs": [
        {
          "output_type": "stream",
          "name": "stdout",
          "text": [
            "Enter the first set of strings:banana,apple,cherry\n",
            "Enter the second set of strings:apple\n",
            "The elements in the first set but not in the second set are: {'banana', 'cherry'}\n"
          ]
        }
      ]
    },
    {
      "cell_type": "markdown",
      "source": [
        "Qns-25 Create a code that takes a tuple and two integers as input. The function should return a new tuple\n",
        "containing elements from the original tuple within the specified range of indices"
      ],
      "metadata": {
        "id": "DTEGxR937nt6"
      }
    },
    {
      "cell_type": "code",
      "source": [
        "#Answer\n",
        "Tuple_input = input(\"Enter the tuple (separated by commas): \")\n",
        "Start_index = int(input(\"Enter the start index: \"))\n",
        "End_index = int(input(\"Enter the end index: \"))\n",
        "result_tuple = tuple(map(int, Tuple_input.split(',')))\n",
        "result_tuple = result_tuple[Start_index:End_index]\n",
        "print(\"The new tuple is:\", result_tuple)"
      ],
      "metadata": {
        "colab": {
          "base_uri": "https://localhost:8080/"
        },
        "id": "8D17rJlo8yTy",
        "outputId": "c88d4fe8-08a0-40cd-dc44-f6f22176cd87"
      },
      "execution_count": null,
      "outputs": [
        {
          "output_type": "stream",
          "name": "stdout",
          "text": [
            "Enter the tuple (separated by commas): 10,20,30,40,50\n",
            "Enter the start index: 1\n",
            "Enter the end index: 5\n",
            "The new tuple is: (20, 30, 40, 50)\n"
          ]
        }
      ]
    },
    {
      "cell_type": "markdown",
      "source": [
        "Qns-26 Write a code that prompts the user to input two sets of characters. Then, print the union of these two sets"
      ],
      "metadata": {
        "id": "409y51nr--ZQ"
      }
    },
    {
      "cell_type": "code",
      "source": [
        "Set1_input=input(\"Enter the first set of characters (sepearted by commas):\")\n",
        "Set2_input=input(\"Enter the second set of characters (seperated by commas):\")\n",
        "Set1=set(Set1_input.split(\",\"))\n",
        "Set2=set(Set2_input.split(\",\"))\n",
        "union_set=Set1|Set2\n",
        "print(f'The union of the two sets is:{union_set}')"
      ],
      "metadata": {
        "id": "-IQA9iBb_Jig"
      },
      "execution_count": null,
      "outputs": []
    },
    {
      "cell_type": "markdown",
      "source": [
        "Qns-27  Develop a code that takes a tuple of integers as input. The function should return the maximum and\n",
        "minimum values from the tuple using tuple unpacking\n"
      ],
      "metadata": {
        "id": "xOdw5SSIA96G"
      }
    },
    {
      "cell_type": "code",
      "source": [
        "# Answer\n",
        "input_tuple = tuple(map(int, input(\"Enter integers separated by spaces: \").split()))\n",
        "max_value= max(input_tuple)\n",
        "min_value=min(input_tuple)\n",
        "# Output the results\n",
        "print(f\"Maximum value: {max_value}\")\n",
        "print(f\"Minimum value: {min_value}\")\n"
      ],
      "metadata": {
        "colab": {
          "base_uri": "https://localhost:8080/"
        },
        "id": "IAO6QVBaBWlZ",
        "outputId": "d3e2e26b-34ea-4026-f075-892a322bd829"
      },
      "execution_count": null,
      "outputs": [
        {
          "output_type": "stream",
          "name": "stdout",
          "text": [
            "Enter integers separated by spaces: 10 500 60 890 5\n",
            "Maximum value: 890\n",
            "Minimum value: 5\n"
          ]
        }
      ]
    },
    {
      "cell_type": "markdown",
      "source": [
        "Qns-28 Create a code that defines two sets of integers. Then, print the union, intersection, and difference of these\n",
        "two sets"
      ],
      "metadata": {
        "id": "oLNCbIdDVPg7"
      }
    },
    {
      "cell_type": "code",
      "source": [
        "Set_1={1,2,3,4,5}\n",
        "Set_2={4,5,6,7,8}\n",
        "union_set=Set_1|Set_2\n",
        "intersection_set=Set_1&Set_2\n",
        "difference_set=Set_1-Set_2\n",
        "print(f\"The union of the two sets is:{union_set}\")\n",
        "print(f\"The intersection of the two sets is:{intersection_set}\")\n",
        "print(f\"The difference of the two sets is:{difference_set}\")"
      ],
      "metadata": {
        "colab": {
          "base_uri": "https://localhost:8080/"
        },
        "id": "agSibzNAVoTF",
        "outputId": "b2d2ed81-0e1f-4d71-f0af-eb1b6d90409a"
      },
      "execution_count": null,
      "outputs": [
        {
          "output_type": "stream",
          "name": "stdout",
          "text": [
            "The union of the two sets is:{1, 2, 3, 4, 5, 6, 7, 8}\n",
            "The intersection of the two sets is:{4, 5}\n",
            "The difference of the two sets is:{1, 2, 3}\n"
          ]
        }
      ]
    },
    {
      "cell_type": "markdown",
      "source": [
        "Qns-29 Write a code that takes a tuple and an element as input. The function should return the count of\n",
        "occurrences of the given element in the tuple."
      ],
      "metadata": {
        "id": "7BPM4X9vSw3f"
      }
    },
    {
      "cell_type": "code",
      "source": [
        "Tuple_input = input(\"Enter the tuple (separated by commas):\")\n",
        "Element_input=input(\"Enter the element:\")\n",
        "Tuple=tuple(map(int,Tuple_input.split(\",\")))\n",
        "Element=int(Element_input)\n",
        "count=Tuple.count(Element)\n",
        "print(f\"The element {Element} appears {count} times in the tuple.\")"
      ],
      "metadata": {
        "colab": {
          "base_uri": "https://localhost:8080/"
        },
        "id": "7UaTgBDaS7U5",
        "outputId": "2219cf42-6e6a-4156-9fb9-d12965c17b9f"
      },
      "execution_count": null,
      "outputs": [
        {
          "output_type": "stream",
          "name": "stdout",
          "text": [
            "Enter the tuple (separated by commas):1,2,3,4,5,6,7,8,9,1,2,3,4,5,6\n",
            "Enter the element:1\n",
            "The element 1 appears 2 times in the tuple.\n"
          ]
        }
      ]
    },
    {
      "cell_type": "markdown",
      "source": [
        "Qns-30  Develop a code that prompts the user to input two sets of strings. Then, print the symmetric difference of\n",
        "these two sets"
      ],
      "metadata": {
        "id": "e8Vegua_YOuQ"
      }
    },
    {
      "cell_type": "code",
      "source": [
        "#Answer\n",
        "set1_input = input(\"Enter the first set of strings (separated by commas): \")\n",
        "set2_input = input(\"Enter the second set of strings (separated by commas): \")\n",
        "set1 = set(set1_input.split(','))\n",
        "set2 = set(set2_input.split(','))\n",
        "symmetric_difference = set1.symmetric_difference(set2)\n",
        "\n",
        "# Printing the result\n",
        "print(f\"The symmetric difference between the two sets is: {symmetric_difference}\")\n"
      ],
      "metadata": {
        "colab": {
          "base_uri": "https://localhost:8080/"
        },
        "id": "2QpfCn_LYTgn",
        "outputId": "972c61af-7ae7-44fe-f166-b2944e4f9c16"
      },
      "execution_count": null,
      "outputs": [
        {
          "output_type": "stream",
          "name": "stdout",
          "text": [
            "Enter the first set of strings (separated by commas): banana, cherry, apple\n",
            "Enter the second set of strings (separated by commas): guava, potato, apple\n",
            "The symmetric difference between the two sets is: {'guava', 'banana', ' potato', ' cherry'}\n"
          ]
        }
      ]
    },
    {
      "cell_type": "markdown",
      "source": [
        "Qns-31 Write a code that takes a list of words as input and returns a dictionary where the keys are unique words\n",
        "and the values are the frequencies of those words in the input list"
      ],
      "metadata": {
        "id": "FS9MuFG44Edv"
      }
    },
    {
      "cell_type": "code",
      "source": [
        "# Answer\n",
        "words_list =input(\"Enter the list of words (separated by space):\").split()\n",
        "word_count = {}\n",
        "for word in words_list:\n",
        "    if word in word_count:\n",
        "        word_count[word] += 1\n",
        "    else:\n",
        "        word_count[word] = 1\n",
        "print(word_count)\n"
      ],
      "metadata": {
        "colab": {
          "base_uri": "https://localhost:8080/"
        },
        "id": "WwUtOtQ34L_H",
        "outputId": "c043441e-788f-41f5-931b-c6d5ad3cfdeb"
      },
      "execution_count": 8,
      "outputs": [
        {
          "output_type": "stream",
          "name": "stdout",
          "text": [
            "Enter the list of words (separated by space):apple banana apple banana orange\n",
            "{'apple': 2, 'banana': 2, 'orange': 1}\n"
          ]
        }
      ]
    },
    {
      "cell_type": "markdown",
      "source": [
        "qns-32  Write a code that takes two dictionaries as input and merges them into a single dictionary. If there are\n",
        "common keys, the values should be added together&"
      ],
      "metadata": {
        "id": "xuOCmXu77hgU"
      }
    },
    {
      "cell_type": "code",
      "source": [
        "dict1 = eval(input(\"Enter the first dictionary: \"))\n",
        "dict2 = eval(input(\"Enter the second dictionary: \"))\n",
        "merged_dict = dict1.copy()\n",
        "\n",
        "for key, value in dict2.items():\n",
        "    if key in merged_dict:\n",
        "        merged_dict[key] += value\n",
        "    else:\n",
        "        merged_dict[key] = value\n",
        "\n",
        "# Output the merged dictionary\n",
        "print(merged_dict)\n"
      ],
      "metadata": {
        "collapsed": true,
        "id": "0UKO_I2m7qIa"
      },
      "execution_count": null,
      "outputs": []
    },
    {
      "cell_type": "markdown",
      "source": [
        "Qns-33 Write a code to access a value in a nested dictionary. The function should take the dictionary and a list of\n",
        "keys as input, and return the corresponding value. If any of the keys do not exist in the dictionary, the\n",
        "function should return None"
      ],
      "metadata": {
        "id": "jX4mWMv1Obly"
      }
    },
    {
      "cell_type": "code",
      "source": [
        "#Answer\n",
        "nested_dict = {\n",
        "    'apple': {'color': 'red', 'price': 2},\n",
        "    'banana': {'color': 'yellow', 'price': 1},\n",
        "    'cherry': {'color': 'red', 'price': 3}\n",
        "}\n",
        "key_path = input(\"Enter the list of keys separated by commas (e.g., 'apple,color'): \").split(',')\n",
        "value = nested_dict\n",
        "for key in key_path:\n",
        "    if key not in value:\n",
        "        value = None\n",
        "        break\n",
        "    value = value[key]\n",
        "if value is not None:\n",
        "    print(\"Value:\", value)\n",
        "else:\n",
        "    print(\"Key not found.\")\n"
      ],
      "metadata": {
        "colab": {
          "base_uri": "https://localhost:8080/"
        },
        "id": "97SpsR_sOi5v",
        "outputId": "a25bff4c-1341-4565-ee10-550d303f0052"
      },
      "execution_count": 44,
      "outputs": [
        {
          "output_type": "stream",
          "name": "stdout",
          "text": [
            "Enter the list of keys separated by commas (e.g., 'apple,color'): apple,price\n",
            "Value: 2\n"
          ]
        }
      ]
    },
    {
      "cell_type": "markdown",
      "source": [
        "Qns-34 Write a code that takes a dictionary as input and returns a sorted version of it based on the values. You\n",
        "can choose whether to sort in ascending or descending order"
      ],
      "metadata": {
        "id": "Kv5GfyJsPkM6"
      }
    },
    {
      "cell_type": "markdown",
      "source": [
        "Qns-35 Write a code that inverts a dictionary, swapping keys and values. Ensure that the inverted dictionary\n",
        "correctly handles cases where multiple keys have the same value by storing the keys as a list in the\n",
        "inverted dictionary."
      ],
      "metadata": {
        "id": "1n1P4EKHU5rS"
      }
    },
    {
      "cell_type": "code",
      "source": [
        "input_dict = input(\"Enter the dictionary (key:value pairs, e.g., 'apple:2,banana:3'): \")\n",
        "input_dict = {item.split(':')[0].strip(): item.split(':')[1].strip() for item in input_dict.split(',')}\n",
        "inverted_dict = {}\n",
        "\n",
        "for key, value in input_dict.items():\n",
        "    if value in inverted_dict:\n",
        "        inverted_dict[value].append(key)\n",
        "    else:\n",
        "        inverted_dict[value] = [key]\n",
        "# Output the inverted dictionary\n",
        "print(\"Inverted Dictionary:\", inverted_dict)\n"
      ],
      "metadata": {
        "colab": {
          "base_uri": "https://localhost:8080/"
        },
        "id": "hMlnQ5NKPp_3",
        "outputId": "a71e7c3f-52ee-4cb1-8650-5dd6bc8d34eb"
      },
      "execution_count": 52,
      "outputs": [
        {
          "output_type": "stream",
          "name": "stdout",
          "text": [
            "Enter the dictionary (key:value pairs, e.g., 'apple:2,banana:3'): 'apple:2,banana:3'\n",
            "Inverted Dictionary: {'2': [\"'apple\"], \"3'\": ['banana']}\n"
          ]
        }
      ]
    }
  ]
}