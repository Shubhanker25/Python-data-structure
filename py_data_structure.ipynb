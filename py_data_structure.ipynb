{
  "nbformat": 4,
  "nbformat_minor": 0,
  "metadata": {
    "colab": {
      "provenance": []
    },
    "kernelspec": {
      "name": "python3",
      "display_name": "Python 3"
    },
    "language_info": {
      "name": "python"
    }
  },
  "cells": [
    {
      "cell_type": "code",
      "execution_count": null,
      "metadata": {
        "id": "Q4Qpa_ZTYhdO"
      },
      "outputs": [],
      "source": []
    },
    {
      "cell_type": "markdown",
      "source": [
        "Qns1- Write a code to reverse a string\n"
      ],
      "metadata": {
        "id": "cf-cp_m0Y5EE"
      }
    },
    {
      "cell_type": "code",
      "source": [
        "#Answer\n",
        "string=\"Hello World\"\n",
        "reversed_string=string[::-1]#using string slicing\n",
        "print(reversed_string)"
      ],
      "metadata": {
        "colab": {
          "base_uri": "https://localhost:8080/"
        },
        "id": "AO9JBlykZEBM",
        "outputId": "84a54ffa-edc1-4723-ea73-818289905040"
      },
      "execution_count": 1,
      "outputs": [
        {
          "output_type": "stream",
          "name": "stdout",
          "text": [
            "dlroW olleH\n"
          ]
        }
      ]
    },
    {
      "cell_type": "markdown",
      "source": [
        "Qns2- Write a code to count the number of vowels in a string\n"
      ],
      "metadata": {
        "id": "jUPGZk2pZoXa"
      }
    },
    {
      "cell_type": "code",
      "source": [
        "#answer\n",
        "string=\"My name is Shubhanker\"\n",
        "vowels=\"aeiouAEIOU\"\n",
        "count=0\n",
        "for char in string:\n",
        "  if char in vowels:\n",
        "    count+=1\n",
        "print(\"Number of Vowels in string is:\", (count))"
      ],
      "metadata": {
        "colab": {
          "base_uri": "https://localhost:8080/"
        },
        "id": "nS74j3LsZyyU",
        "outputId": "32631778-41ff-42f8-8f41-a2da4c535683"
      },
      "execution_count": 2,
      "outputs": [
        {
          "output_type": "stream",
          "name": "stdout",
          "text": [
            "Number of Vowels in string is: 6\n"
          ]
        }
      ]
    },
    {
      "cell_type": "markdown",
      "source": [
        "Qns-3 Write a code to check if a given string is a palindrome or not\n"
      ],
      "metadata": {
        "id": "_Ua5-pGqbDvd"
      }
    },
    {
      "cell_type": "code",
      "source": [
        "#answer\n",
        "string=input(\"please enter the string\")\n",
        "if string==string[::-1]:\n",
        "  print(\"String is palindrome\")\n",
        "else:\n",
        "  print(\"String is not palindrome\")\n"
      ],
      "metadata": {
        "id": "kWMlRTHdbHXL",
        "colab": {
          "base_uri": "https://localhost:8080/"
        },
        "outputId": "93a19f43-8168-4470-9386-a84616b5a347"
      },
      "execution_count": 3,
      "outputs": [
        {
          "output_type": "stream",
          "name": "stdout",
          "text": [
            "please enter the stringlevel\n",
            "String is palindrome\n"
          ]
        }
      ]
    },
    {
      "cell_type": "markdown",
      "source": [],
      "metadata": {
        "id": "MzKtUCOTsUZw"
      }
    },
    {
      "cell_type": "markdown",
      "source": [
        "Qns-4 Write a code to check if two given strings are anagrams of each other\n"
      ],
      "metadata": {
        "id": "bTaHHXGosr8w"
      }
    },
    {
      "cell_type": "code",
      "source": [
        "#Answer\n",
        "string1=(\"silent\")\n",
        "string2=(\"listen\")\n",
        "if sorted(string1)==sorted(string2):\n",
        "  print(\"Strings are anagrams\")\n",
        "else:\n",
        "  print(\"Strings are not anagrams\")"
      ],
      "metadata": {
        "colab": {
          "base_uri": "https://localhost:8080/"
        },
        "id": "ew3CgGkqswNh",
        "outputId": "3177e3d7-3834-4d1d-f89e-aca498685602"
      },
      "execution_count": null,
      "outputs": [
        {
          "output_type": "stream",
          "name": "stdout",
          "text": [
            "Strings are anagrams\n"
          ]
        }
      ]
    },
    {
      "cell_type": "markdown",
      "source": [],
      "metadata": {
        "id": "NAGBl66xscK2"
      }
    },
    {
      "cell_type": "markdown",
      "source": [
        "Qns-5 Write a code to find all occurrences of a given substring within another string\n"
      ],
      "metadata": {
        "id": "CNAm5JYBuHFo"
      }
    },
    {
      "cell_type": "code",
      "source": [
        "#Answer\n",
        "string=\"abdssjatsr\"\n",
        "substring=\"s\"\n",
        "count=0\n",
        "for i in string:\n",
        "  if i==substring:\n",
        "    count+=1\n",
        "print(f\"occurrences of a given substring within another string is {count} \")"
      ],
      "metadata": {
        "colab": {
          "base_uri": "https://localhost:8080/"
        },
        "id": "Ayg9jKq1uPyj",
        "outputId": "0d59700c-19de-4b48-c7de-98a6d9dd77b5"
      },
      "execution_count": null,
      "outputs": [
        {
          "output_type": "stream",
          "name": "stdout",
          "text": [
            "occurrences of a given substring within another string is 3 \n"
          ]
        }
      ]
    },
    {
      "cell_type": "markdown",
      "source": [
        "Qns-6 Write a code to perform basic string compression using the counts of repeated characters"
      ],
      "metadata": {
        "id": "AHPA7Wetxsu9"
      }
    },
    {
      "cell_type": "code",
      "source": [
        "#Answer\n",
        "string = \"aaabbbcccddee\"\n",
        "compressed_string = \"\"\n",
        "count =1\n",
        "for i in range(1, len(string)):\n",
        "    if string[i] == string[i - 1]:\n",
        "        count += 1\n",
        "    else:\n",
        "        compressed_string += string[i - 1] + str(count)\n",
        "        count = 1\n",
        "compressed_string += string[-1] + str(count)\n",
        "print(f\"Compressed string: {compressed_string}\")\n",
        "\n"
      ],
      "metadata": {
        "colab": {
          "base_uri": "https://localhost:8080/"
        },
        "id": "RfFBr2jyxvfk",
        "outputId": "6e574761-1da6-4411-cb70-9054d7148996"
      },
      "execution_count": null,
      "outputs": [
        {
          "output_type": "stream",
          "name": "stdout",
          "text": [
            "Compressed string: a3b3c3d2e2\n"
          ]
        }
      ]
    },
    {
      "cell_type": "markdown",
      "source": [
        "Qns7-Write a code to determine if a string has all unique **characters**\n",
        "\n"
      ],
      "metadata": {
        "id": "tvMsTO8cPchJ"
      }
    },
    {
      "cell_type": "code",
      "source": [
        "#Answer\n",
        "string=\"Ramesh\"\n",
        "if len(string)==len(set(string)):\n",
        "  print(\"String has all unique characters\")\n",
        "else:\n",
        "  print(\"String does not have all unique characters\")\n",
        "\n"
      ],
      "metadata": {
        "colab": {
          "base_uri": "https://localhost:8080/"
        },
        "id": "d1WvpvoVPlUd",
        "outputId": "2e4c26cf-97b3-415f-b69f-19dd889b27a0"
      },
      "execution_count": null,
      "outputs": [
        {
          "output_type": "stream",
          "name": "stdout",
          "text": [
            "String has all unique characters\n"
          ]
        }
      ]
    },
    {
      "cell_type": "markdown",
      "source": [
        "Qns-8  Write a code to convert a given string to uppercase or lowercase\n"
      ],
      "metadata": {
        "id": "j7x3xsWzUNMN"
      }
    },
    {
      "cell_type": "code",
      "source": [
        "given_string=\"hello, How are you?\"\n",
        "uppercase_string=given_string.upper()\n",
        "lowercase_string=given_string.lower()\n",
        "print(f\"Uppercase string: {uppercase_string}\")\n",
        "print(f\"Lowercase string: {lowercase_string}\")"
      ],
      "metadata": {
        "colab": {
          "base_uri": "https://localhost:8080/"
        },
        "collapsed": true,
        "id": "n-RFY77pUUc9",
        "outputId": "2ce03d49-ee46-4c26-8d93-694b3d255d44"
      },
      "execution_count": null,
      "outputs": [
        {
          "output_type": "stream",
          "name": "stdout",
          "text": [
            "Uppercase string: HELLO, HOW ARE YOU?\n",
            "Lowercase string: hello, how are you?\n"
          ]
        }
      ]
    },
    {
      "cell_type": "markdown",
      "source": [
        "Qns-9  Write a code to count the number of words in a string\n"
      ],
      "metadata": {
        "id": "H6Yjb-WxU8NQ"
      }
    },
    {
      "cell_type": "code",
      "source": [
        "#Answer\n",
        "Str=(\"slow and steadly wins the race\")\n",
        "count=len(Str.split())\n",
        "print(f\"The number of words in Str is: {count} \")"
      ],
      "metadata": {
        "colab": {
          "base_uri": "https://localhost:8080/"
        },
        "id": "FffU6v11VHdT",
        "outputId": "2cc3de6f-ebd9-4973-a982-abdb70be6267"
      },
      "execution_count": null,
      "outputs": [
        {
          "output_type": "stream",
          "name": "stdout",
          "text": [
            "The number of words in Str is: 6 \n"
          ]
        }
      ]
    },
    {
      "cell_type": "markdown",
      "source": [
        "Qns-10 Write a code to concatenate two strings without using the + operator."
      ],
      "metadata": {
        "id": "kXmPeB1ZXRuT"
      }
    },
    {
      "cell_type": "code",
      "source": [
        "from typing_extensions import Concatenate\n",
        "\n",
        "#Answer\n",
        "Str_1= \"Hello \"\n",
        "Str_2=\"World\"\n",
        "Concatenated_string=\"\".join([Str_1,Str_2])\n",
        "print(f\"Concatenated string: {Concatenated_string}\")\n"
      ],
      "metadata": {
        "colab": {
          "base_uri": "https://localhost:8080/"
        },
        "id": "9Z5SSWhoXYIk",
        "outputId": "71573d6b-1b9e-4939-a873-bbd1b1b2dd61"
      },
      "execution_count": null,
      "outputs": [
        {
          "output_type": "stream",
          "name": "stdout",
          "text": [
            "Concatenated string: Hello World\n"
          ]
        }
      ]
    },
    {
      "cell_type": "markdown",
      "source": [],
      "metadata": {
        "id": "t5Qfh-iEaDKC"
      }
    },
    {
      "cell_type": "markdown",
      "source": [
        "Qns-11  Write a code to remove all occurrences of a specific element from a list\n"
      ],
      "metadata": {
        "id": "x_g_PmiJaj_I"
      }
    },
    {
      "cell_type": "code",
      "source": [
        "List=[1,25,2,8,98,8,2,5,8,9]\n",
        "element_to_remove= 8\n",
        "for i in List:\n",
        "  if i==element_to_remove:\n",
        "    List.remove(i)\n",
        "\n",
        "else:\n",
        "  print(f\"list after removal of {element_to_remove} is {List}\")\n"
      ],
      "metadata": {
        "colab": {
          "base_uri": "https://localhost:8080/"
        },
        "id": "6hZo7iWDaym4",
        "outputId": "36db0c07-799c-44b9-9102-6a90250abcf3"
      },
      "execution_count": null,
      "outputs": [
        {
          "output_type": "stream",
          "name": "stdout",
          "text": [
            "list after removal of 8 is [1, 25, 2, 98, 2, 5, 9]\n"
          ]
        }
      ]
    },
    {
      "cell_type": "markdown",
      "source": [
        "Qns-12 Implement a code to find the second largest number in a given list of integers."
      ],
      "metadata": {
        "id": "Zcpp1taddrfy"
      }
    },
    {
      "cell_type": "code",
      "source": [
        "L1=[585,25,88,789,25.78,678]\n",
        "L1.sort()\n",
        "Second_largest=L1[-2]\n",
        "print(f\"The second largest number in a given list of integers is {Second_largest}\")\n"
      ],
      "metadata": {
        "colab": {
          "base_uri": "https://localhost:8080/"
        },
        "id": "057BzwUHd2KN",
        "outputId": "35c08a14-6a23-4135-d420-ee5490ce5a84"
      },
      "execution_count": null,
      "outputs": [
        {
          "output_type": "stream",
          "name": "stdout",
          "text": [
            "The second largest number in a given list of integers is 678\n"
          ]
        }
      ]
    },
    {
      "cell_type": "markdown",
      "source": [
        "Qns-13 Create a code to count the occurrences of each element in a list and return a dictionary with elements as\n",
        "keys and their counts as values."
      ],
      "metadata": {
        "id": "ovb6apJK3pAw"
      }
    },
    {
      "cell_type": "code",
      "source": [
        "List=[1,5,6,8,1,2,6,8,2,2,1,9]\n",
        "count_dict = {}\n",
        "for i in List:\n",
        "    if i in count_dict:\n",
        "        count_dict[i] += 1\n",
        "    else:\n",
        "        count_dict[i] = 1\n",
        "print(count_dict)\n",
        "\n"
      ],
      "metadata": {
        "colab": {
          "base_uri": "https://localhost:8080/"
        },
        "id": "6tLp6HxM3uzd",
        "outputId": "3abc546b-e7a3-4395-917d-bf64882046e8"
      },
      "execution_count": 4,
      "outputs": [
        {
          "output_type": "stream",
          "name": "stdout",
          "text": [
            "{1: 3, 5: 1, 6: 2, 8: 2, 2: 3, 9: 1}\n"
          ]
        }
      ]
    },
    {
      "cell_type": "markdown",
      "source": [
        "Qns-14 Write a code to reverse a list in-place without using any built-in reverse function"
      ],
      "metadata": {
        "id": "CFyB1EpC7Ubv"
      }
    },
    {
      "cell_type": "code",
      "source": [
        "my_list=[1,2,3,\"harry\",25.4,True]\n",
        "Reversed_list=my_list[::-1]\n",
        "print(Reversed_list)\n"
      ],
      "metadata": {
        "colab": {
          "base_uri": "https://localhost:8080/"
        },
        "id": "aNmvnogt6k1T",
        "outputId": "7429c878-3530-46ff-80f6-b0979346dcb5"
      },
      "execution_count": null,
      "outputs": [
        {
          "output_type": "stream",
          "name": "stdout",
          "text": [
            "[True, 25.4, 'harry', 3, 2, 1]\n"
          ]
        }
      ]
    },
    {
      "cell_type": "markdown",
      "source": [
        "Qns-15  Implement a code to find and remove duplicates from a list while preserving the original order of\n",
        "elements"
      ],
      "metadata": {
        "id": "6QdRj1d42TWS"
      }
    },
    {
      "cell_type": "code",
      "source": [
        "#Ans\n",
        "my_lis = [1, 2, 2, 3, 4, 5, 3, 6, 7, 1]\n",
        "unique_lis = []\n",
        "for item in my_lis:\n",
        "    # If the item is not already in the unique_list, add it\n",
        "    if item not in unique_lis:\n",
        "        unique_lis.append(item)\n",
        "print(unique_lis)\n"
      ],
      "metadata": {
        "colab": {
          "base_uri": "https://localhost:8080/"
        },
        "id": "P5CZ0RRf2W38",
        "outputId": "ac1aa81a-4792-4a88-b4b0-708f756575c5"
      },
      "execution_count": null,
      "outputs": [
        {
          "output_type": "stream",
          "name": "stdout",
          "text": [
            "[1, 2, 3, 4, 5, 6, 7]\n"
          ]
        }
      ]
    },
    {
      "cell_type": "markdown",
      "source": [
        "Qns-16 Create a code to check if a given list is sorted (either in ascending or descending order) or not"
      ],
      "metadata": {
        "id": "m5QnnwB_3n77"
      }
    },
    {
      "cell_type": "code",
      "source": [
        "#Answer\n",
        "given_lis= [5,10,12,14,78,122]\n",
        "if given_lis==sorted(given_lis):\n",
        "  print(\"Given List is sorted in ascending order\")\n",
        "elif given_lis==sorted(given_lis,reverse=True):\n",
        "  print(\"Given List is sorted in descending order\")\n",
        "else:\n",
        "  print(\"Given List is not sorted\")\n"
      ],
      "metadata": {
        "colab": {
          "base_uri": "https://localhost:8080/"
        },
        "id": "5S6u6C023s5g",
        "outputId": "a3ed91f6-9e44-4ba9-9fff-656346d0cec0"
      },
      "execution_count": null,
      "outputs": [
        {
          "output_type": "stream",
          "name": "stdout",
          "text": [
            "Given List is sorted in ascending order\n"
          ]
        }
      ]
    },
    {
      "cell_type": "markdown",
      "source": [
        "Qns-17 Write a code to merge two sorted lists into a single sorted list"
      ],
      "metadata": {
        "id": "4uU9uJIw5ja6"
      }
    },
    {
      "cell_type": "code",
      "source": [
        "#Answer\n",
        "L1=[25,4.55,38,55,78,99]\n",
        "L2=[30,5,24,66,88,2]\n",
        "sorted_lis=sorted(L1+L2)\n",
        "print(f\" Merged and sorted list is {sorted_lis}\")"
      ],
      "metadata": {
        "colab": {
          "base_uri": "https://localhost:8080/"
        },
        "id": "opWB8VLo5nkE",
        "outputId": "d1986eb3-faf8-4e9e-e48f-05b8f7e68d6b"
      },
      "execution_count": null,
      "outputs": [
        {
          "output_type": "stream",
          "name": "stdout",
          "text": [
            " Merged and sorted list is [2, 4.55, 5, 24, 25, 30, 38, 55, 66, 78, 88, 99]\n"
          ]
        }
      ]
    }
  ]
}